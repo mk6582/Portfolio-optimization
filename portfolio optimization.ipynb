{
 "cells": [
  {
   "cell_type": "code",
   "execution_count": 1,
   "id": "620d7cdf",
   "metadata": {},
   "outputs": [],
   "source": [
    "import warnings\n",
    "warnings.filterwarnings(\"ignore\")\n",
    "\n",
    "\n",
    "\n",
    "import pandas as pd\n",
    "import numpy as np\n",
    "import matplotlib.pyplot as plt\n",
    "\n",
    "import pandas_datareader as pdr\n",
    "from pandas_profiling import ProfileReport\n",
    "\n",
    "%matplotlib inline\n",
    "import matplotlib\n",
    "import seaborn as sns\n",
    "%reload_ext autoreload\n",
    "%autoreload 2\n",
    "\n",
    "import datetime\n",
    "from datetime import datetime\n",
    "plt.style.use('fivethirtyeight')\n"
   ]
  },
  {
   "cell_type": "code",
   "execution_count": 2,
   "id": "2fac5d8e",
   "metadata": {},
   "outputs": [],
   "source": [
    "# pip install statsmodels"
   ]
  },
  {
   "cell_type": "code",
   "execution_count": 3,
   "id": "10b50912",
   "metadata": {},
   "outputs": [],
   "source": [
    "import pandas as pd\n",
    "import matplotlib.pyplot as plt\n",
    "%matplotlib inline\n",
    "import seaborn as sns\n",
    "import statsmodels.api as sm\n",
    "import pandas_datareader\n",
    "import datetime\n",
    "import pandas_datareader.data as web"
   ]
  },
  {
   "cell_type": "code",
   "execution_count": 4,
   "id": "a85f892c",
   "metadata": {},
   "outputs": [],
   "source": [
    "start = datetime.datetime(2017,1,1)\n",
    "end = datetime.datetime.today()\n"
   ]
  },
  {
   "cell_type": "code",
   "execution_count": 5,
   "id": "d911764d",
   "metadata": {},
   "outputs": [],
   "source": [
    "#another way to set up dates:\n",
    "#start = pd.to_datetime('2015-01-01')\n",
    "#end = pd.to_datetime('2020-01-01')"
   ]
  },
  {
   "cell_type": "code",
   "execution_count": 7,
   "id": "9c783acd",
   "metadata": {},
   "outputs": [],
   "source": [
    "# Get stock price from Yahoo wbsite\n",
    "apl = web.DataReader('AAPL', 'yahoo', start, end)\n",
    "googl = web.DataReader('GOOGL', 'yahoo', start, end)\n",
    "amzn = web.DataReader('AMZN', 'yahoo', start, end)\n",
    "mst = web.DataReader('MSFT', 'yahoo', start, end)\n",
    "tesla = web.DataReader('TSLA', 'yahoo', start, end)\n",
    "gs = web.DataReader('GS', 'yahoo', start, end)\n",
    "jpmc = web.DataReader('JPM', 'yahoo', start, end)\n"
   ]
  },
  {
   "cell_type": "code",
   "execution_count": 8,
   "id": "291b9349",
   "metadata": {},
   "outputs": [],
   "source": [
    "# pdr. used for getting data from (website) \n",
    "\n",
    "#apl = pdr.get_data_yahoo('AAPL')\n"
   ]
  },
  {
   "cell_type": "code",
   "execution_count": 9,
   "id": "a59a4d07",
   "metadata": {},
   "outputs": [
    {
     "data": {
      "text/html": [
       "<div>\n",
       "<style scoped>\n",
       "    .dataframe tbody tr th:only-of-type {\n",
       "        vertical-align: middle;\n",
       "    }\n",
       "\n",
       "    .dataframe tbody tr th {\n",
       "        vertical-align: top;\n",
       "    }\n",
       "\n",
       "    .dataframe thead th {\n",
       "        text-align: right;\n",
       "    }\n",
       "</style>\n",
       "<table border=\"1\" class=\"dataframe\">\n",
       "  <thead>\n",
       "    <tr style=\"text-align: right;\">\n",
       "      <th></th>\n",
       "      <th>High</th>\n",
       "      <th>Low</th>\n",
       "      <th>Open</th>\n",
       "      <th>Close</th>\n",
       "      <th>Volume</th>\n",
       "      <th>Adj Close</th>\n",
       "    </tr>\n",
       "    <tr>\n",
       "      <th>Date</th>\n",
       "      <th></th>\n",
       "      <th></th>\n",
       "      <th></th>\n",
       "      <th></th>\n",
       "      <th></th>\n",
       "      <th></th>\n",
       "    </tr>\n",
       "  </thead>\n",
       "  <tbody>\n",
       "    <tr>\n",
       "      <th>2017-01-03</th>\n",
       "      <td>244.970001</td>\n",
       "      <td>237.970001</td>\n",
       "      <td>242.699997</td>\n",
       "      <td>241.570007</td>\n",
       "      <td>4384200.0</td>\n",
       "      <td>218.627548</td>\n",
       "    </tr>\n",
       "    <tr>\n",
       "      <th>2017-01-04</th>\n",
       "      <td>243.320007</td>\n",
       "      <td>240.029999</td>\n",
       "      <td>241.440002</td>\n",
       "      <td>243.130005</td>\n",
       "      <td>2728700.0</td>\n",
       "      <td>220.039368</td>\n",
       "    </tr>\n",
       "    <tr>\n",
       "      <th>2017-01-05</th>\n",
       "      <td>243.229996</td>\n",
       "      <td>236.779999</td>\n",
       "      <td>242.720001</td>\n",
       "      <td>241.320007</td>\n",
       "      <td>3562600.0</td>\n",
       "      <td>218.401321</td>\n",
       "    </tr>\n",
       "    <tr>\n",
       "      <th>2017-01-06</th>\n",
       "      <td>246.199997</td>\n",
       "      <td>241.369995</td>\n",
       "      <td>242.289993</td>\n",
       "      <td>244.899994</td>\n",
       "      <td>3591100.0</td>\n",
       "      <td>221.641312</td>\n",
       "    </tr>\n",
       "    <tr>\n",
       "      <th>2017-01-09</th>\n",
       "      <td>244.690002</td>\n",
       "      <td>241.470001</td>\n",
       "      <td>243.250000</td>\n",
       "      <td>242.889999</td>\n",
       "      <td>3022800.0</td>\n",
       "      <td>219.822128</td>\n",
       "    </tr>\n",
       "  </tbody>\n",
       "</table>\n",
       "</div>"
      ],
      "text/plain": [
       "                  High         Low        Open       Close     Volume  \\\n",
       "Date                                                                    \n",
       "2017-01-03  244.970001  237.970001  242.699997  241.570007  4384200.0   \n",
       "2017-01-04  243.320007  240.029999  241.440002  243.130005  2728700.0   \n",
       "2017-01-05  243.229996  236.779999  242.720001  241.320007  3562600.0   \n",
       "2017-01-06  246.199997  241.369995  242.289993  244.899994  3591100.0   \n",
       "2017-01-09  244.690002  241.470001  243.250000  242.889999  3022800.0   \n",
       "\n",
       "             Adj Close  \n",
       "Date                    \n",
       "2017-01-03  218.627548  \n",
       "2017-01-04  220.039368  \n",
       "2017-01-05  218.401321  \n",
       "2017-01-06  221.641312  \n",
       "2017-01-09  219.822128  "
      ]
     },
     "execution_count": 9,
     "metadata": {},
     "output_type": "execute_result"
    }
   ],
   "source": [
    "gs.head()"
   ]
  },
  {
   "cell_type": "code",
   "execution_count": 10,
   "id": "83f63a66",
   "metadata": {},
   "outputs": [
    {
     "data": {
      "text/html": [
       "<div>\n",
       "<style scoped>\n",
       "    .dataframe tbody tr th:only-of-type {\n",
       "        vertical-align: middle;\n",
       "    }\n",
       "\n",
       "    .dataframe tbody tr th {\n",
       "        vertical-align: top;\n",
       "    }\n",
       "\n",
       "    .dataframe thead th {\n",
       "        text-align: right;\n",
       "    }\n",
       "</style>\n",
       "<table border=\"1\" class=\"dataframe\">\n",
       "  <thead>\n",
       "    <tr style=\"text-align: right;\">\n",
       "      <th></th>\n",
       "      <th>High</th>\n",
       "      <th>Low</th>\n",
       "      <th>Open</th>\n",
       "      <th>Close</th>\n",
       "      <th>Volume</th>\n",
       "      <th>Adj Close</th>\n",
       "    </tr>\n",
       "    <tr>\n",
       "      <th>Date</th>\n",
       "      <th></th>\n",
       "      <th></th>\n",
       "      <th></th>\n",
       "      <th></th>\n",
       "      <th></th>\n",
       "      <th></th>\n",
       "    </tr>\n",
       "  </thead>\n",
       "  <tbody>\n",
       "    <tr>\n",
       "      <th>2017-01-03</th>\n",
       "      <td>87.760002</td>\n",
       "      <td>85.980003</td>\n",
       "      <td>87.339996</td>\n",
       "      <td>87.230003</td>\n",
       "      <td>20550700.0</td>\n",
       "      <td>74.436737</td>\n",
       "    </tr>\n",
       "    <tr>\n",
       "      <th>2017-01-04</th>\n",
       "      <td>87.180000</td>\n",
       "      <td>86.400002</td>\n",
       "      <td>86.959999</td>\n",
       "      <td>86.910004</td>\n",
       "      <td>15266600.0</td>\n",
       "      <td>74.574028</td>\n",
       "    </tr>\n",
       "    <tr>\n",
       "      <th>2017-01-05</th>\n",
       "      <td>87.110001</td>\n",
       "      <td>85.260002</td>\n",
       "      <td>86.809998</td>\n",
       "      <td>86.110001</td>\n",
       "      <td>14300800.0</td>\n",
       "      <td>73.887573</td>\n",
       "    </tr>\n",
       "    <tr>\n",
       "      <th>2017-01-06</th>\n",
       "      <td>86.620003</td>\n",
       "      <td>85.940002</td>\n",
       "      <td>86.389999</td>\n",
       "      <td>86.120003</td>\n",
       "      <td>12893300.0</td>\n",
       "      <td>73.896149</td>\n",
       "    </tr>\n",
       "    <tr>\n",
       "      <th>2017-01-09</th>\n",
       "      <td>86.769997</td>\n",
       "      <td>85.519997</td>\n",
       "      <td>85.730003</td>\n",
       "      <td>86.180000</td>\n",
       "      <td>12806600.0</td>\n",
       "      <td>73.947647</td>\n",
       "    </tr>\n",
       "  </tbody>\n",
       "</table>\n",
       "</div>"
      ],
      "text/plain": [
       "                 High        Low       Open      Close      Volume  Adj Close\n",
       "Date                                                                         \n",
       "2017-01-03  87.760002  85.980003  87.339996  87.230003  20550700.0  74.436737\n",
       "2017-01-04  87.180000  86.400002  86.959999  86.910004  15266600.0  74.574028\n",
       "2017-01-05  87.110001  85.260002  86.809998  86.110001  14300800.0  73.887573\n",
       "2017-01-06  86.620003  85.940002  86.389999  86.120003  12893300.0  73.896149\n",
       "2017-01-09  86.769997  85.519997  85.730003  86.180000  12806600.0  73.947647"
      ]
     },
     "execution_count": 10,
     "metadata": {},
     "output_type": "execute_result"
    }
   ],
   "source": [
    "jpmc.head()"
   ]
  },
  {
   "cell_type": "code",
   "execution_count": 11,
   "id": "37199c61",
   "metadata": {},
   "outputs": [
    {
     "name": "stdout",
     "output_type": "stream",
     "text": [
      "<class 'pandas.core.frame.DataFrame'>\n",
      "DatetimeIndex: 1415 entries, 2017-01-03 to 2022-08-16\n",
      "Data columns (total 6 columns):\n",
      " #   Column     Non-Null Count  Dtype  \n",
      "---  ------     --------------  -----  \n",
      " 0   High       1415 non-null   float64\n",
      " 1   Low        1415 non-null   float64\n",
      " 2   Open       1415 non-null   float64\n",
      " 3   Close      1415 non-null   float64\n",
      " 4   Volume     1415 non-null   float64\n",
      " 5   Adj Close  1415 non-null   float64\n",
      "dtypes: float64(6)\n",
      "memory usage: 77.4 KB\n"
     ]
    }
   ],
   "source": [
    "apl.info()"
   ]
  },
  {
   "cell_type": "code",
   "execution_count": 12,
   "id": "1691b3a2",
   "metadata": {},
   "outputs": [
    {
     "data": {
      "text/html": [
       "<div>\n",
       "<style scoped>\n",
       "    .dataframe tbody tr th:only-of-type {\n",
       "        vertical-align: middle;\n",
       "    }\n",
       "\n",
       "    .dataframe tbody tr th {\n",
       "        vertical-align: top;\n",
       "    }\n",
       "\n",
       "    .dataframe thead th {\n",
       "        text-align: right;\n",
       "    }\n",
       "</style>\n",
       "<table border=\"1\" class=\"dataframe\">\n",
       "  <thead>\n",
       "    <tr style=\"text-align: right;\">\n",
       "      <th></th>\n",
       "      <th>High</th>\n",
       "      <th>Low</th>\n",
       "      <th>Open</th>\n",
       "      <th>Close</th>\n",
       "      <th>Volume</th>\n",
       "      <th>Adj Close</th>\n",
       "    </tr>\n",
       "    <tr>\n",
       "      <th>Date</th>\n",
       "      <th></th>\n",
       "      <th></th>\n",
       "      <th></th>\n",
       "      <th></th>\n",
       "      <th></th>\n",
       "      <th></th>\n",
       "    </tr>\n",
       "  </thead>\n",
       "  <tbody>\n",
       "    <tr>\n",
       "      <th>2017-01-03</th>\n",
       "      <td>40.571999</td>\n",
       "      <td>39.844501</td>\n",
       "      <td>40.030998</td>\n",
       "      <td>40.400501</td>\n",
       "      <td>39180000.0</td>\n",
       "      <td>40.400501</td>\n",
       "    </tr>\n",
       "    <tr>\n",
       "      <th>2017-01-04</th>\n",
       "      <td>40.671501</td>\n",
       "      <td>40.205502</td>\n",
       "      <td>40.494499</td>\n",
       "      <td>40.388500</td>\n",
       "      <td>30306000.0</td>\n",
       "      <td>40.388500</td>\n",
       "    </tr>\n",
       "    <tr>\n",
       "      <th>2017-01-05</th>\n",
       "      <td>40.687000</td>\n",
       "      <td>40.296001</td>\n",
       "      <td>40.375000</td>\n",
       "      <td>40.651001</td>\n",
       "      <td>26810000.0</td>\n",
       "      <td>40.651001</td>\n",
       "    </tr>\n",
       "    <tr>\n",
       "      <th>2017-01-06</th>\n",
       "      <td>41.448002</td>\n",
       "      <td>40.575001</td>\n",
       "      <td>40.749500</td>\n",
       "      <td>41.260502</td>\n",
       "      <td>40342000.0</td>\n",
       "      <td>41.260502</td>\n",
       "    </tr>\n",
       "    <tr>\n",
       "      <th>2017-01-09</th>\n",
       "      <td>41.521500</td>\n",
       "      <td>41.081001</td>\n",
       "      <td>41.318501</td>\n",
       "      <td>41.359001</td>\n",
       "      <td>28178000.0</td>\n",
       "      <td>41.359001</td>\n",
       "    </tr>\n",
       "  </tbody>\n",
       "</table>\n",
       "</div>"
      ],
      "text/plain": [
       "                 High        Low       Open      Close      Volume  Adj Close\n",
       "Date                                                                         \n",
       "2017-01-03  40.571999  39.844501  40.030998  40.400501  39180000.0  40.400501\n",
       "2017-01-04  40.671501  40.205502  40.494499  40.388500  30306000.0  40.388500\n",
       "2017-01-05  40.687000  40.296001  40.375000  40.651001  26810000.0  40.651001\n",
       "2017-01-06  41.448002  40.575001  40.749500  41.260502  40342000.0  41.260502\n",
       "2017-01-09  41.521500  41.081001  41.318501  41.359001  28178000.0  41.359001"
      ]
     },
     "execution_count": 12,
     "metadata": {},
     "output_type": "execute_result"
    }
   ],
   "source": [
    "googl.head()"
   ]
  },
  {
   "cell_type": "code",
   "execution_count": 13,
   "id": "59a8dc05",
   "metadata": {},
   "outputs": [],
   "source": [
    "apl = apl[['Adj Close']]\n",
    "googl = googl[['Adj Close']]\n",
    "amzn = amzn[['Adj Close']]\n",
    "mst = mst[['Adj Close']]\n",
    "tesla=tesla[['Adj Close']]\n",
    "gs = gs[['Adj Close']]\n",
    "jpmc = jpmc[['Adj Close']]"
   ]
  },
  {
   "cell_type": "code",
   "execution_count": 14,
   "id": "aab12fa4",
   "metadata": {},
   "outputs": [
    {
     "data": {
      "text/html": [
       "<div>\n",
       "<style scoped>\n",
       "    .dataframe tbody tr th:only-of-type {\n",
       "        vertical-align: middle;\n",
       "    }\n",
       "\n",
       "    .dataframe tbody tr th {\n",
       "        vertical-align: top;\n",
       "    }\n",
       "\n",
       "    .dataframe thead th {\n",
       "        text-align: right;\n",
       "    }\n",
       "</style>\n",
       "<table border=\"1\" class=\"dataframe\">\n",
       "  <thead>\n",
       "    <tr style=\"text-align: right;\">\n",
       "      <th></th>\n",
       "      <th>Adj Close</th>\n",
       "    </tr>\n",
       "    <tr>\n",
       "      <th>Date</th>\n",
       "      <th></th>\n",
       "    </tr>\n",
       "  </thead>\n",
       "  <tbody>\n",
       "    <tr>\n",
       "      <th>2017-01-03</th>\n",
       "      <td>27.219830</td>\n",
       "    </tr>\n",
       "    <tr>\n",
       "      <th>2017-01-04</th>\n",
       "      <td>27.189363</td>\n",
       "    </tr>\n",
       "    <tr>\n",
       "      <th>2017-01-05</th>\n",
       "      <td>27.327637</td>\n",
       "    </tr>\n",
       "    <tr>\n",
       "      <th>2017-01-06</th>\n",
       "      <td>27.632292</td>\n",
       "    </tr>\n",
       "    <tr>\n",
       "      <th>2017-01-09</th>\n",
       "      <td>27.885387</td>\n",
       "    </tr>\n",
       "  </tbody>\n",
       "</table>\n",
       "</div>"
      ],
      "text/plain": [
       "            Adj Close\n",
       "Date                 \n",
       "2017-01-03  27.219830\n",
       "2017-01-04  27.189363\n",
       "2017-01-05  27.327637\n",
       "2017-01-06  27.632292\n",
       "2017-01-09  27.885387"
      ]
     },
     "execution_count": 14,
     "metadata": {},
     "output_type": "execute_result"
    }
   ],
   "source": [
    "apl.head()"
   ]
  },
  {
   "cell_type": "code",
   "execution_count": 15,
   "id": "5e7ccb5a",
   "metadata": {},
   "outputs": [
    {
     "name": "stdout",
     "output_type": "stream",
     "text": [
      "<class 'pandas.core.frame.DataFrame'>\n",
      "DatetimeIndex: 1415 entries, 2017-01-03 to 2022-08-16\n",
      "Data columns (total 1 columns):\n",
      " #   Column     Non-Null Count  Dtype  \n",
      "---  ------     --------------  -----  \n",
      " 0   Adj Close  1415 non-null   float64\n",
      "dtypes: float64(1)\n",
      "memory usage: 22.1 KB\n"
     ]
    }
   ],
   "source": [
    "apl.info()"
   ]
  },
  {
   "cell_type": "code",
   "execution_count": 16,
   "id": "62c4ddd5",
   "metadata": {},
   "outputs": [],
   "source": [
    "# we create a normalized return column as: normalized return = (adj.close)/(initial value of adj close)\n",
    "for stk_df in (apl, googl, amzn,mst,tesla,gs,jpmc):\n",
    "    stk_df['Normed Return'] = stk_df['Adj Close']/ stk_df.iloc[0]['Adj Close']"
   ]
  },
  {
   "cell_type": "markdown",
   "id": "e9defea7",
   "metadata": {},
   "source": [
    "# portfolio allocation"
   ]
  },
  {
   "cell_type": "markdown",
   "id": "3fa43358",
   "metadata": {},
   "source": [
    "1% in   APL\n",
    "1% in   GOOGL\n",
    "1% in   AMZN\n",
    "1.5% in MST\n",
    "2.5% in tesla\n",
    "2% in   gs\n",
    "1% in   MST\n",
    "\n",
    "i m using (for loop) for above allocation and (zip) above (tuple of stock dataframes) then pass in a list of the allocation percentages Using tuple unpacking to create an Allocation column for (stk_df) equal to the (Normalized Return) times (the allocation)"
   ]
  },
  {
   "cell_type": "code",
   "execution_count": 17,
   "id": "002dc86e",
   "metadata": {},
   "outputs": [],
   "source": [
    "for stk_df, allo in zip((apl,googl,amzn,mst,tesla,gs,jpmc),[.01,.01,.01,.015,.025,.02,.01]):\n",
    "    stk_df['Allocation'] = stk_df['Normed Return']*allo"
   ]
  },
  {
   "cell_type": "markdown",
   "id": "6bce97c4",
   "metadata": {},
   "source": [
    " In each stock, assuming i have an initial portfolio value of  = 10lac Dollars($) i.e.(1000000$).\n"
   ]
  },
  {
   "cell_type": "code",
   "execution_count": 18,
   "id": "81bdbde5",
   "metadata": {},
   "outputs": [],
   "source": [
    "for stk_df in (apl,googl,amzn,mst,tesla,gs,jpmc):\n",
    "    stk_df['Position Amount']= stk_df['Allocation']*1000000"
   ]
  },
  {
   "cell_type": "code",
   "execution_count": 19,
   "id": "2008beff",
   "metadata": {},
   "outputs": [
    {
     "data": {
      "text/html": [
       "<div>\n",
       "<style scoped>\n",
       "    .dataframe tbody tr th:only-of-type {\n",
       "        vertical-align: middle;\n",
       "    }\n",
       "\n",
       "    .dataframe tbody tr th {\n",
       "        vertical-align: top;\n",
       "    }\n",
       "\n",
       "    .dataframe thead th {\n",
       "        text-align: right;\n",
       "    }\n",
       "</style>\n",
       "<table border=\"1\" class=\"dataframe\">\n",
       "  <thead>\n",
       "    <tr style=\"text-align: right;\">\n",
       "      <th></th>\n",
       "      <th>Adj Close</th>\n",
       "      <th>Normed Return</th>\n",
       "      <th>Allocation</th>\n",
       "      <th>Position Amount</th>\n",
       "    </tr>\n",
       "    <tr>\n",
       "      <th>Date</th>\n",
       "      <th></th>\n",
       "      <th></th>\n",
       "      <th></th>\n",
       "      <th></th>\n",
       "    </tr>\n",
       "  </thead>\n",
       "  <tbody>\n",
       "    <tr>\n",
       "      <th>2017-01-03</th>\n",
       "      <td>27.219830</td>\n",
       "      <td>1.000000</td>\n",
       "      <td>0.010000</td>\n",
       "      <td>10000.000000</td>\n",
       "    </tr>\n",
       "    <tr>\n",
       "      <th>2017-01-04</th>\n",
       "      <td>27.189363</td>\n",
       "      <td>0.998881</td>\n",
       "      <td>0.009989</td>\n",
       "      <td>9988.807395</td>\n",
       "    </tr>\n",
       "    <tr>\n",
       "      <th>2017-01-05</th>\n",
       "      <td>27.327637</td>\n",
       "      <td>1.003961</td>\n",
       "      <td>0.010040</td>\n",
       "      <td>10039.606111</td>\n",
       "    </tr>\n",
       "    <tr>\n",
       "      <th>2017-01-06</th>\n",
       "      <td>27.632292</td>\n",
       "      <td>1.015153</td>\n",
       "      <td>0.010152</td>\n",
       "      <td>10151.530058</td>\n",
       "    </tr>\n",
       "    <tr>\n",
       "      <th>2017-01-09</th>\n",
       "      <td>27.885387</td>\n",
       "      <td>1.024451</td>\n",
       "      <td>0.010245</td>\n",
       "      <td>10244.512134</td>\n",
       "    </tr>\n",
       "  </tbody>\n",
       "</table>\n",
       "</div>"
      ],
      "text/plain": [
       "            Adj Close  Normed Return  Allocation  Position Amount\n",
       "Date                                                             \n",
       "2017-01-03  27.219830       1.000000    0.010000     10000.000000\n",
       "2017-01-04  27.189363       0.998881    0.009989      9988.807395\n",
       "2017-01-05  27.327637       1.003961    0.010040     10039.606111\n",
       "2017-01-06  27.632292       1.015153    0.010152     10151.530058\n",
       "2017-01-09  27.885387       1.024451    0.010245     10244.512134"
      ]
     },
     "execution_count": 19,
     "metadata": {},
     "output_type": "execute_result"
    }
   ],
   "source": [
    "apl.head()"
   ]
  },
  {
   "cell_type": "markdown",
   "id": "726454b5",
   "metadata": {},
   "source": [
    " create a portfolio DataFrame for position values of the stocks.\n",
    "\n",
    "Create a list of all position values(apv),\n",
    "Concatenate them and set axis=1\n",
    "Set the column names\n",
    "Add a total portfolio value column\n"
   ]
  },
  {
   "cell_type": "code",
   "execution_count": 20,
   "id": "c71542ec",
   "metadata": {},
   "outputs": [
    {
     "data": {
      "image/png": "[encoded data removed]",
      "text/plain": [
       "<Figure size 1080x576 with 1 Axes>"
      ]
     },
     "metadata": {
      "needs_background": "light"
     },
     "output_type": "display_data"
    }
   ],
   "source": [
    "# create list of all position values\n",
    "all_pos_vals = [apl['Position Amount'],googl['Position Amount'],amzn['Position Amount'],mst['Position Amount'],tesla['Position Amount'],gs['Position Amount'],jpmc['Position Amount']]\n",
    "\n",
    "# concatenate the list of position values\n",
    "portfolio_val = pd.concat(all_pos_vals, axis=1)\n",
    "\n",
    "# set the column names\n",
    "portfolio_val.columns = ['apple','googl','amzn' ,'mst','tesla','gs','jpmc']\n",
    "\n",
    "# add a total portfolio column\n",
    "portfolio_val['Total'] = portfolio_val.sum(axis=1)\n",
    "\n",
    "portfolio_val['Total'].plot(title = ' Our Portfolio ',figsize=(15,8));"
   ]
  },
  {
   "cell_type": "code",
   "execution_count": 21,
   "id": "e0cecf9e",
   "metadata": {},
   "outputs": [
    {
     "data": {
      "text/html": [
       "<div>\n",
       "<style scoped>\n",
       "    .dataframe tbody tr th:only-of-type {\n",
       "        vertical-align: middle;\n",
       "    }\n",
       "\n",
       "    .dataframe tbody tr th {\n",
       "        vertical-align: top;\n",
       "    }\n",
       "\n",
       "    .dataframe thead th {\n",
       "        text-align: right;\n",
       "    }\n",
       "</style>\n",
       "<table border=\"1\" class=\"dataframe\">\n",
       "  <thead>\n",
       "    <tr style=\"text-align: right;\">\n",
       "      <th></th>\n",
       "      <th>apple</th>\n",
       "      <th>googl</th>\n",
       "      <th>amzn</th>\n",
       "      <th>mst</th>\n",
       "      <th>tesla</th>\n",
       "      <th>gs</th>\n",
       "      <th>jpmc</th>\n",
       "      <th>Total</th>\n",
       "    </tr>\n",
       "    <tr>\n",
       "      <th>Date</th>\n",
       "      <th></th>\n",
       "      <th></th>\n",
       "      <th></th>\n",
       "      <th></th>\n",
       "      <th></th>\n",
       "      <th></th>\n",
       "      <th></th>\n",
       "      <th></th>\n",
       "    </tr>\n",
       "  </thead>\n",
       "  <tbody>\n",
       "    <tr>\n",
       "      <th>2017-01-03</th>\n",
       "      <td>10000.000000</td>\n",
       "      <td>10000.000000</td>\n",
       "      <td>10000.000000</td>\n",
       "      <td>15000.000000</td>\n",
       "      <td>25000.000000</td>\n",
       "      <td>20000.000000</td>\n",
       "      <td>10000.000000</td>\n",
       "      <td>100000.000000</td>\n",
       "    </tr>\n",
       "    <tr>\n",
       "      <th>2017-01-04</th>\n",
       "      <td>9988.807395</td>\n",
       "      <td>9997.029483</td>\n",
       "      <td>10046.572846</td>\n",
       "      <td>14932.884859</td>\n",
       "      <td>26152.126858</td>\n",
       "      <td>20129.152933</td>\n",
       "      <td>10018.443978</td>\n",
       "      <td>101265.018352</td>\n",
       "    </tr>\n",
       "    <tr>\n",
       "      <th>2017-01-05</th>\n",
       "      <td>10039.606111</td>\n",
       "      <td>10062.004113</td>\n",
       "      <td>10355.328130</td>\n",
       "      <td>14932.884859</td>\n",
       "      <td>26124.475620</td>\n",
       "      <td>19979.304822</td>\n",
       "      <td>9926.224088</td>\n",
       "      <td>101419.827742</td>\n",
       "    </tr>\n",
       "    <tr>\n",
       "      <th>2017-01-06</th>\n",
       "      <td>10151.530058</td>\n",
       "      <td>10212.868797</td>\n",
       "      <td>10561.519291</td>\n",
       "      <td>15062.316687</td>\n",
       "      <td>26384.856096</td>\n",
       "      <td>20275.698415</td>\n",
       "      <td>9927.376132</td>\n",
       "      <td>102576.165476</td>\n",
       "    </tr>\n",
       "    <tr>\n",
       "      <th>2017-01-09</th>\n",
       "      <td>10244.512134</td>\n",
       "      <td>10237.249509</td>\n",
       "      <td>10573.859217</td>\n",
       "      <td>15014.380546</td>\n",
       "      <td>26646.390264</td>\n",
       "      <td>20109.279923</td>\n",
       "      <td>9934.294545</td>\n",
       "      <td>102759.966138</td>\n",
       "    </tr>\n",
       "  </tbody>\n",
       "</table>\n",
       "</div>"
      ],
      "text/plain": [
       "                   apple         googl          amzn           mst  \\\n",
       "Date                                                                 \n",
       "2017-01-03  10000.000000  10000.000000  10000.000000  15000.000000   \n",
       "2017-01-04   9988.807395   9997.029483  10046.572846  14932.884859   \n",
       "2017-01-05  10039.606111  10062.004113  10355.328130  14932.884859   \n",
       "2017-01-06  10151.530058  10212.868797  10561.519291  15062.316687   \n",
       "2017-01-09  10244.512134  10237.249509  10573.859217  15014.380546   \n",
       "\n",
       "                   tesla            gs          jpmc          Total  \n",
       "Date                                                                 \n",
       "2017-01-03  25000.000000  20000.000000  10000.000000  100000.000000  \n",
       "2017-01-04  26152.126858  20129.152933  10018.443978  101265.018352  \n",
       "2017-01-05  26124.475620  19979.304822   9926.224088  101419.827742  \n",
       "2017-01-06  26384.856096  20275.698415   9927.376132  102576.165476  \n",
       "2017-01-09  26646.390264  20109.279923   9934.294545  102759.966138  "
      ]
     },
     "execution_count": 21,
     "metadata": {},
     "output_type": "execute_result"
    }
   ],
   "source": [
    "portfolio_val.head()"
   ]
  },
  {
   "cell_type": "markdown",
   "id": "9a7f2cc4",
   "metadata": {},
   "source": [
    "from above: now we see day by day changes in our portfolio"
   ]
  },
  {
   "cell_type": "code",
   "execution_count": 22,
   "id": "935302d8",
   "metadata": {},
   "outputs": [
    {
     "data": {
      "image/png": "[encoded data removed]",
      "text/plain": [
       "<Figure size 1080x576 with 1 Axes>"
      ]
     },
     "metadata": {
      "needs_background": "light"
     },
     "output_type": "display_data"
    }
   ],
   "source": [
    "portfolio_val.drop('Total',axis=1).plot(title= 'Portfolio allocation trend' ,figsize=(15,8));"
   ]
  },
  {
   "cell_type": "code",
   "execution_count": 23,
   "id": "69d5b6ff",
   "metadata": {},
   "outputs": [
    {
     "data": {
      "image/png": "[encoded data removed]",
      "text/plain": [
       "<Figure size 1080x576 with 1 Axes>"
      ]
     },
     "metadata": {
      "needs_background": "light"
     },
     "output_type": "display_data"
    }
   ],
   "source": [
    "# plot after 2020 value\n",
    "portfolio_val['2020-01-01':].drop('Total', axis = 1).plot(title= 'Portfolio value after 2020' ,figsize=(15,8));"
   ]
  },
  {
   "cell_type": "markdown",
   "id": "ac63da73",
   "metadata": {},
   "source": [
    "# Portfolio Statistics\n",
    "\n",
    "(Daily returns),\n",
    "(Average daily return),\n",
    "(Standard deviation),\n",
    "by use these statistics to calculate our portfolio's Sharpe ratio.\n",
    "\n",
    "first calculate daily return:"
   ]
  },
  {
   "cell_type": "code",
   "execution_count": 24,
   "id": "d2857ead",
   "metadata": {},
   "outputs": [],
   "source": [
    "# Daily Return\n",
    "portfolio_val['Daily Return'] = portfolio_val['Total'].pct_change(1)"
   ]
  },
  {
   "cell_type": "code",
   "execution_count": 25,
   "id": "af305c80",
   "metadata": {},
   "outputs": [
    {
     "data": {
      "text/html": [
       "<div>\n",
       "<style scoped>\n",
       "    .dataframe tbody tr th:only-of-type {\n",
       "        vertical-align: middle;\n",
       "    }\n",
       "\n",
       "    .dataframe tbody tr th {\n",
       "        vertical-align: top;\n",
       "    }\n",
       "\n",
       "    .dataframe thead th {\n",
       "        text-align: right;\n",
       "    }\n",
       "</style>\n",
       "<table border=\"1\" class=\"dataframe\">\n",
       "  <thead>\n",
       "    <tr style=\"text-align: right;\">\n",
       "      <th></th>\n",
       "      <th>apple</th>\n",
       "      <th>googl</th>\n",
       "      <th>amzn</th>\n",
       "      <th>mst</th>\n",
       "      <th>tesla</th>\n",
       "      <th>gs</th>\n",
       "      <th>jpmc</th>\n",
       "      <th>Total</th>\n",
       "      <th>Daily Return</th>\n",
       "    </tr>\n",
       "    <tr>\n",
       "      <th>Date</th>\n",
       "      <th></th>\n",
       "      <th></th>\n",
       "      <th></th>\n",
       "      <th></th>\n",
       "      <th></th>\n",
       "      <th></th>\n",
       "      <th></th>\n",
       "      <th></th>\n",
       "      <th></th>\n",
       "    </tr>\n",
       "  </thead>\n",
       "  <tbody>\n",
       "    <tr>\n",
       "      <th>2017-01-03</th>\n",
       "      <td>10000.000000</td>\n",
       "      <td>10000.000000</td>\n",
       "      <td>10000.000000</td>\n",
       "      <td>15000.000000</td>\n",
       "      <td>25000.000000</td>\n",
       "      <td>20000.000000</td>\n",
       "      <td>10000.000000</td>\n",
       "      <td>100000.000000</td>\n",
       "      <td>NaN</td>\n",
       "    </tr>\n",
       "    <tr>\n",
       "      <th>2017-01-04</th>\n",
       "      <td>9988.807395</td>\n",
       "      <td>9997.029483</td>\n",
       "      <td>10046.572846</td>\n",
       "      <td>14932.884859</td>\n",
       "      <td>26152.126858</td>\n",
       "      <td>20129.152933</td>\n",
       "      <td>10018.443978</td>\n",
       "      <td>101265.018352</td>\n",
       "      <td>0.012650</td>\n",
       "    </tr>\n",
       "    <tr>\n",
       "      <th>2017-01-05</th>\n",
       "      <td>10039.606111</td>\n",
       "      <td>10062.004113</td>\n",
       "      <td>10355.328130</td>\n",
       "      <td>14932.884859</td>\n",
       "      <td>26124.475620</td>\n",
       "      <td>19979.304822</td>\n",
       "      <td>9926.224088</td>\n",
       "      <td>101419.827742</td>\n",
       "      <td>0.001529</td>\n",
       "    </tr>\n",
       "    <tr>\n",
       "      <th>2017-01-06</th>\n",
       "      <td>10151.530058</td>\n",
       "      <td>10212.868797</td>\n",
       "      <td>10561.519291</td>\n",
       "      <td>15062.316687</td>\n",
       "      <td>26384.856096</td>\n",
       "      <td>20275.698415</td>\n",
       "      <td>9927.376132</td>\n",
       "      <td>102576.165476</td>\n",
       "      <td>0.011401</td>\n",
       "    </tr>\n",
       "    <tr>\n",
       "      <th>2017-01-09</th>\n",
       "      <td>10244.512134</td>\n",
       "      <td>10237.249509</td>\n",
       "      <td>10573.859217</td>\n",
       "      <td>15014.380546</td>\n",
       "      <td>26646.390264</td>\n",
       "      <td>20109.279923</td>\n",
       "      <td>9934.294545</td>\n",
       "      <td>102759.966138</td>\n",
       "      <td>0.001792</td>\n",
       "    </tr>\n",
       "  </tbody>\n",
       "</table>\n",
       "</div>"
      ],
      "text/plain": [
       "                   apple         googl          amzn           mst  \\\n",
       "Date                                                                 \n",
       "2017-01-03  10000.000000  10000.000000  10000.000000  15000.000000   \n",
       "2017-01-04   9988.807395   9997.029483  10046.572846  14932.884859   \n",
       "2017-01-05  10039.606111  10062.004113  10355.328130  14932.884859   \n",
       "2017-01-06  10151.530058  10212.868797  10561.519291  15062.316687   \n",
       "2017-01-09  10244.512134  10237.249509  10573.859217  15014.380546   \n",
       "\n",
       "                   tesla            gs          jpmc          Total  \\\n",
       "Date                                                                  \n",
       "2017-01-03  25000.000000  20000.000000  10000.000000  100000.000000   \n",
       "2017-01-04  26152.126858  20129.152933  10018.443978  101265.018352   \n",
       "2017-01-05  26124.475620  19979.304822   9926.224088  101419.827742   \n",
       "2017-01-06  26384.856096  20275.698415   9927.376132  102576.165476   \n",
       "2017-01-09  26646.390264  20109.279923   9934.294545  102759.966138   \n",
       "\n",
       "            Daily Return  \n",
       "Date                      \n",
       "2017-01-03           NaN  \n",
       "2017-01-04      0.012650  \n",
       "2017-01-05      0.001529  \n",
       "2017-01-06      0.011401  \n",
       "2017-01-09      0.001792  "
      ]
     },
     "execution_count": 25,
     "metadata": {},
     "output_type": "execute_result"
    }
   ],
   "source": [
    "portfolio_val.head()"
   ]
  },
  {
   "cell_type": "code",
   "execution_count": 26,
   "id": "fa94da39",
   "metadata": {},
   "outputs": [
    {
     "data": {
      "text/plain": [
       "0.0017310893484175239"
      ]
     },
     "execution_count": 26,
     "metadata": {},
     "output_type": "execute_result"
    }
   ],
   "source": [
    "# average daily return\n",
    "portfolio_val['Daily Return'].mean()"
   ]
  },
  {
   "cell_type": "code",
   "execution_count": 27,
   "id": "f998b82c",
   "metadata": {},
   "outputs": [
    {
     "data": {
      "text/plain": [
       "0.023242232545066535"
      ]
     },
     "execution_count": 27,
     "metadata": {},
     "output_type": "execute_result"
    }
   ],
   "source": [
    "# standard deviation\n",
    "portfolio_val['Daily Return'].std()"
   ]
  },
  {
   "cell_type": "code",
   "execution_count": 28,
   "id": "4f7042c2",
   "metadata": {},
   "outputs": [
    {
     "data": {
      "image/png": "[encoded data removed]",
      "text/plain": [
       "<Figure size 1080x576 with 1 Axes>"
      ]
     },
     "metadata": {
      "needs_background": "light"
     },
     "output_type": "display_data"
    }
   ],
   "source": [
    "# plot histogram of daily returns\n",
    "portfolio_val['Daily Return'].plot(kind='hist', bins=50, figsize=(15,8));"
   ]
  },
  {
   "cell_type": "code",
   "execution_count": 29,
   "id": "35dbe0fe",
   "metadata": {},
   "outputs": [
    {
     "data": {
      "text/plain": [
       "686.7837421210285"
      ]
     },
     "execution_count": 29,
     "metadata": {},
     "output_type": "execute_result"
    }
   ],
   "source": [
    "# cumulative portfolio return\n",
    "cum_return = 100 * (portfolio_val['Total'][-1]/portfolio_val['Total'][0] - 1)\n",
    "cum_return"
   ]
  },
  {
   "cell_type": "markdown",
   "id": "eb46bc17",
   "metadata": {},
   "source": [
    "# Sharpe Ratio\n",
    "The Sharpe Ratio is a measure of risk-adjusted returns.\n",
    "\n",
    "The Sharpe Ratio is the mean of (portfolio return - the risk-free rate) % standard deviation.\n",
    "\n",
    "in simple term, the risk-free rate is 0%.\n"
   ]
  },
  {
   "cell_type": "code",
   "execution_count": 30,
   "id": "5ea63993",
   "metadata": {},
   "outputs": [
    {
     "data": {
      "text/plain": [
       "0.07448033854153008"
      ]
     },
     "execution_count": 30,
     "metadata": {},
     "output_type": "execute_result"
    }
   ],
   "source": [
    "sharpe_ratio = portfolio_val['Daily Return'].mean() / portfolio_val['Daily Return'].std()\n",
    "sharpe_ratio"
   ]
  },
  {
   "cell_type": "markdown",
   "id": "68935ae9",
   "metadata": {},
   "source": [
    "# annualized Sharpe ratio.\n",
    "\n",
    "This ratio is generally intended to be a yearly measurement, \n",
    "to get the annualized Sharpe ratio , multiply S.P by the square root of 252."
   ]
  },
  {
   "cell_type": "code",
   "execution_count": 31,
   "id": "310739f2",
   "metadata": {},
   "outputs": [
    {
     "data": {
      "text/plain": [
       "1.1823387200687265"
      ]
     },
     "execution_count": 31,
     "metadata": {},
     "output_type": "execute_result"
    }
   ],
   "source": [
    "asr = (252**0.5) * sharpe_ratio\n",
    "asr"
   ]
  },
  {
   "cell_type": "markdown",
   "id": "7c7bd85a",
   "metadata": {},
   "source": [
    "# So what is a good Sharpe Ratio?\n",
    "\n",
    "Generally, a Sharpe Ratio > 1 = good (of course depending on risk-tolerance), \n",
    "a ratio (2) = very good, \n",
    "ratio > 3 =  excellent.\n",
    "\n",
    "now, how we can use the Sharpe Ratio to allocate any portfolio in a more optimal way."
   ]
  },
  {
   "cell_type": "markdown",
   "id": "5d6a847b",
   "metadata": {},
   "source": [
    "# Portfolio Optimization\n",
    "\n",
    "So how can we optimize the portfolio's allocation?\n",
    "\n",
    "we take random allocations and see which one has the best Sharpe Ratio.\n",
    "\n",
    "This process of randomly guessing is known as a Monte Carlo Simulation.\n",
    "\n",
    "What we're going to do is randomly assign a weight to each stock in our portfolio, and then calculate the mean daily return and standard deviation of return.\n",
    "\n",
    "This allows us to calculate the Sharpe Ratio for many randomly selected allocations.\n",
    "\n",
    "then going to plot the allocations on a chart that displays the return vs. the volatility(Risk), colored by the Sharpe Ratio.\n",
    "\n",
    "What we're looking for is which random allocation has the best Sharpe Ratio.\n",
    "\n",
    "One thing to note is that guessing and checking is not the most efficient way to optimize a portfolio—instead, we can use math to determine the optimal Sharpe Ratio for a given portfolio.\n",
    "\n",
    "This is known as an optimization algorithm.\n",
    "\n",
    "\n",
    "In our case we're trying to find a portfolio that maximizes the Sharpe Ratio, so we can create an optimizer that attempts to minimize the negative Sharpe Ratio.\n",
    "\n",
    "In particular, we're going to use SciPy's built-in optimization algorithms to calculate the optimal weight for portfolio allocation, optimized for the Sharpe Ratio.\n",
    "\n",
    " first with a Monte Carlo simulation and then with an optimization algorithm\n",
    "\n",
    "First, let's read in all of our stocks from yahoo again."
   ]
  },
  {
   "cell_type": "code",
   "execution_count": 32,
   "id": "0e3974fc",
   "metadata": {},
   "outputs": [],
   "source": [
    "start = datetime.datetime(2020,1,1)\n",
    "end = datetime.datetime.today()\n"
   ]
  },
  {
   "cell_type": "code",
   "execution_count": 33,
   "id": "d80832de",
   "metadata": {},
   "outputs": [],
   "source": [
    "# get the Adj Close column of googl, AMZN, APL, MSFT\n",
    "\n",
    "apl = web.DataReader('AAPL', 'yahoo', start, end)\n",
    "googl = web.DataReader('GOOGL', 'yahoo', start, end)\n",
    "amzn = web.DataReader('AMZN', 'yahoo', start, end)\n",
    "mst = web.DataReader('MSFT', 'yahoo', start, end)\n",
    "tesla = web.DataReader('TSLA', 'yahoo', start, end)\n",
    "gs = web.DataReader('GS', 'yahoo', start, end)\n",
    "jpmc = web.DataReader('JPM', 'yahoo', start, end)\n"
   ]
  },
  {
   "cell_type": "code",
   "execution_count": 34,
   "id": "5dacc054",
   "metadata": {},
   "outputs": [],
   "source": [
    "apl = apl[['Adj Close']]\n",
    "googl = googl[['Adj Close']]\n",
    "amzn = amzn[['Adj Close']]\n",
    "mst = mst[['Adj Close']]\n",
    "tesla=tesla[['Adj Close']]\n",
    "gs = gs[['Adj Close']]\n",
    "jpmc = jpmc[['Adj Close']]"
   ]
  },
  {
   "cell_type": "code",
   "execution_count": 35,
   "id": "121fb505",
   "metadata": {},
   "outputs": [
    {
     "data": {
      "text/html": [
       "<div>\n",
       "<style scoped>\n",
       "    .dataframe tbody tr th:only-of-type {\n",
       "        vertical-align: middle;\n",
       "    }\n",
       "\n",
       "    .dataframe tbody tr th {\n",
       "        vertical-align: top;\n",
       "    }\n",
       "\n",
       "    .dataframe thead th {\n",
       "        text-align: right;\n",
       "    }\n",
       "</style>\n",
       "<table border=\"1\" class=\"dataframe\">\n",
       "  <thead>\n",
       "    <tr style=\"text-align: right;\">\n",
       "      <th></th>\n",
       "      <th>Adj Close</th>\n",
       "    </tr>\n",
       "    <tr>\n",
       "      <th>Date</th>\n",
       "      <th></th>\n",
       "    </tr>\n",
       "  </thead>\n",
       "  <tbody>\n",
       "    <tr>\n",
       "      <th>2019-12-31</th>\n",
       "      <td>72.039871</td>\n",
       "    </tr>\n",
       "    <tr>\n",
       "      <th>2020-01-02</th>\n",
       "      <td>73.683571</td>\n",
       "    </tr>\n",
       "    <tr>\n",
       "      <th>2020-01-03</th>\n",
       "      <td>72.967216</td>\n",
       "    </tr>\n",
       "    <tr>\n",
       "      <th>2020-01-06</th>\n",
       "      <td>73.548637</td>\n",
       "    </tr>\n",
       "    <tr>\n",
       "      <th>2020-01-07</th>\n",
       "      <td>73.202721</td>\n",
       "    </tr>\n",
       "  </tbody>\n",
       "</table>\n",
       "</div>"
      ],
      "text/plain": [
       "            Adj Close\n",
       "Date                 \n",
       "2019-12-31  72.039871\n",
       "2020-01-02  73.683571\n",
       "2020-01-03  72.967216\n",
       "2020-01-06  73.548637\n",
       "2020-01-07  73.202721"
      ]
     },
     "execution_count": 35,
     "metadata": {},
     "output_type": "execute_result"
    }
   ],
   "source": [
    "apl.head()"
   ]
  },
  {
   "cell_type": "code",
   "execution_count": 36,
   "id": "075e891c",
   "metadata": {},
   "outputs": [],
   "source": [
    "# create list of all stock values\n",
    "stk_vals = [apl['Adj Close'], googl['Adj Close'], amzn['Adj Close'], mst['Adj Close'],tesla['Adj Close'],gs['Adj Close'],jpmc['Adj Close']]\n",
    "\n",
    "# concatenate the list of stock values\n",
    "stk = pd.concat(stk_vals, axis=1)\n",
    "\n",
    "# set the column names\n",
    "stk.columns = ['apple', 'googl', 'AMZN', 'microsoft','tesla','gs','jpmc']\n"
   ]
  },
  {
   "cell_type": "code",
   "execution_count": 37,
   "id": "86e05fbb",
   "metadata": {},
   "outputs": [
    {
     "data": {
      "text/html": [
       "<div>\n",
       "<style scoped>\n",
       "    .dataframe tbody tr th:only-of-type {\n",
       "        vertical-align: middle;\n",
       "    }\n",
       "\n",
       "    .dataframe tbody tr th {\n",
       "        vertical-align: top;\n",
       "    }\n",
       "\n",
       "    .dataframe thead th {\n",
       "        text-align: right;\n",
       "    }\n",
       "</style>\n",
       "<table border=\"1\" class=\"dataframe\">\n",
       "  <thead>\n",
       "    <tr style=\"text-align: right;\">\n",
       "      <th></th>\n",
       "      <th>apple</th>\n",
       "      <th>googl</th>\n",
       "      <th>AMZN</th>\n",
       "      <th>microsoft</th>\n",
       "      <th>tesla</th>\n",
       "      <th>gs</th>\n",
       "      <th>jpmc</th>\n",
       "    </tr>\n",
       "    <tr>\n",
       "      <th>Date</th>\n",
       "      <th></th>\n",
       "      <th></th>\n",
       "      <th></th>\n",
       "      <th></th>\n",
       "      <th></th>\n",
       "      <th></th>\n",
       "      <th></th>\n",
       "    </tr>\n",
       "  </thead>\n",
       "  <tbody>\n",
       "    <tr>\n",
       "      <th>2019-12-31</th>\n",
       "      <td>72.039871</td>\n",
       "      <td>66.969498</td>\n",
       "      <td>92.391998</td>\n",
       "      <td>154.071579</td>\n",
       "      <td>83.666000</td>\n",
       "      <td>218.020782</td>\n",
       "      <td>128.342972</td>\n",
       "    </tr>\n",
       "    <tr>\n",
       "      <th>2020-01-02</th>\n",
       "      <td>73.683571</td>\n",
       "      <td>68.433998</td>\n",
       "      <td>94.900497</td>\n",
       "      <td>156.924423</td>\n",
       "      <td>86.052002</td>\n",
       "      <td>222.183426</td>\n",
       "      <td>129.898941</td>\n",
       "    </tr>\n",
       "    <tr>\n",
       "      <th>2020-01-03</th>\n",
       "      <td>72.967216</td>\n",
       "      <td>68.075996</td>\n",
       "      <td>93.748497</td>\n",
       "      <td>154.970383</td>\n",
       "      <td>88.601997</td>\n",
       "      <td>219.585342</td>\n",
       "      <td>128.184753</td>\n",
       "    </tr>\n",
       "    <tr>\n",
       "      <th>2020-01-06</th>\n",
       "      <td>73.548637</td>\n",
       "      <td>69.890503</td>\n",
       "      <td>95.143997</td>\n",
       "      <td>155.370956</td>\n",
       "      <td>90.307999</td>\n",
       "      <td>221.832565</td>\n",
       "      <td>128.082809</td>\n",
       "    </tr>\n",
       "    <tr>\n",
       "      <th>2020-01-07</th>\n",
       "      <td>73.202721</td>\n",
       "      <td>69.755501</td>\n",
       "      <td>95.343002</td>\n",
       "      <td>153.954346</td>\n",
       "      <td>93.811996</td>\n",
       "      <td>223.292801</td>\n",
       "      <td>125.905350</td>\n",
       "    </tr>\n",
       "  </tbody>\n",
       "</table>\n",
       "</div>"
      ],
      "text/plain": [
       "                apple      googl       AMZN   microsoft      tesla  \\\n",
       "Date                                                                 \n",
       "2019-12-31  72.039871  66.969498  92.391998  154.071579  83.666000   \n",
       "2020-01-02  73.683571  68.433998  94.900497  156.924423  86.052002   \n",
       "2020-01-03  72.967216  68.075996  93.748497  154.970383  88.601997   \n",
       "2020-01-06  73.548637  69.890503  95.143997  155.370956  90.307999   \n",
       "2020-01-07  73.202721  69.755501  95.343002  153.954346  93.811996   \n",
       "\n",
       "                    gs        jpmc  \n",
       "Date                                \n",
       "2019-12-31  218.020782  128.342972  \n",
       "2020-01-02  222.183426  129.898941  \n",
       "2020-01-03  219.585342  128.184753  \n",
       "2020-01-06  221.832565  128.082809  \n",
       "2020-01-07  223.292801  125.905350  "
      ]
     },
     "execution_count": 37,
     "metadata": {},
     "output_type": "execute_result"
    }
   ],
   "source": [
    "stk.head()"
   ]
  },
  {
   "cell_type": "code",
   "execution_count": 38,
   "id": "4dc7388b",
   "metadata": {},
   "outputs": [
    {
     "data": {
      "text/plain": [
       "apple        0.001594\n",
       "googl        0.001130\n",
       "AMZN         0.000966\n",
       "microsoft    0.001207\n",
       "tesla        0.004697\n",
       "gs           0.001037\n",
       "jpmc         0.000245\n",
       "dtype: float64"
      ]
     },
     "execution_count": 38,
     "metadata": {},
     "output_type": "execute_result"
    }
   ],
   "source": [
    "# arithmetic mean daily return\n",
    "stk.pct_change(1).mean()"
   ]
  },
  {
   "cell_type": "code",
   "execution_count": 39,
   "id": "860fbe46",
   "metadata": {},
   "outputs": [
    {
     "data": {
      "text/html": [
       "<div>\n",
       "<style scoped>\n",
       "    .dataframe tbody tr th:only-of-type {\n",
       "        vertical-align: middle;\n",
       "    }\n",
       "\n",
       "    .dataframe tbody tr th {\n",
       "        vertical-align: top;\n",
       "    }\n",
       "\n",
       "    .dataframe thead th {\n",
       "        text-align: right;\n",
       "    }\n",
       "</style>\n",
       "<table border=\"1\" class=\"dataframe\">\n",
       "  <thead>\n",
       "    <tr style=\"text-align: right;\">\n",
       "      <th></th>\n",
       "      <th>apple</th>\n",
       "      <th>googl</th>\n",
       "      <th>AMZN</th>\n",
       "      <th>microsoft</th>\n",
       "      <th>tesla</th>\n",
       "      <th>gs</th>\n",
       "      <th>jpmc</th>\n",
       "    </tr>\n",
       "  </thead>\n",
       "  <tbody>\n",
       "    <tr>\n",
       "      <th>apple</th>\n",
       "      <td>1.000000</td>\n",
       "      <td>0.718022</td>\n",
       "      <td>0.658961</td>\n",
       "      <td>0.808385</td>\n",
       "      <td>0.521604</td>\n",
       "      <td>0.535202</td>\n",
       "      <td>0.469842</td>\n",
       "    </tr>\n",
       "    <tr>\n",
       "      <th>googl</th>\n",
       "      <td>0.718022</td>\n",
       "      <td>1.000000</td>\n",
       "      <td>0.660391</td>\n",
       "      <td>0.815402</td>\n",
       "      <td>0.461386</td>\n",
       "      <td>0.549527</td>\n",
       "      <td>0.496924</td>\n",
       "    </tr>\n",
       "    <tr>\n",
       "      <th>AMZN</th>\n",
       "      <td>0.658961</td>\n",
       "      <td>0.660391</td>\n",
       "      <td>1.000000</td>\n",
       "      <td>0.689451</td>\n",
       "      <td>0.473583</td>\n",
       "      <td>0.359247</td>\n",
       "      <td>0.266353</td>\n",
       "    </tr>\n",
       "    <tr>\n",
       "      <th>microsoft</th>\n",
       "      <td>0.808385</td>\n",
       "      <td>0.815402</td>\n",
       "      <td>0.689451</td>\n",
       "      <td>1.000000</td>\n",
       "      <td>0.515574</td>\n",
       "      <td>0.541347</td>\n",
       "      <td>0.489508</td>\n",
       "    </tr>\n",
       "    <tr>\n",
       "      <th>tesla</th>\n",
       "      <td>0.521604</td>\n",
       "      <td>0.461386</td>\n",
       "      <td>0.473583</td>\n",
       "      <td>0.515574</td>\n",
       "      <td>1.000000</td>\n",
       "      <td>0.351963</td>\n",
       "      <td>0.279375</td>\n",
       "    </tr>\n",
       "    <tr>\n",
       "      <th>gs</th>\n",
       "      <td>0.535202</td>\n",
       "      <td>0.549527</td>\n",
       "      <td>0.359247</td>\n",
       "      <td>0.541347</td>\n",
       "      <td>0.351963</td>\n",
       "      <td>1.000000</td>\n",
       "      <td>0.867683</td>\n",
       "    </tr>\n",
       "    <tr>\n",
       "      <th>jpmc</th>\n",
       "      <td>0.469842</td>\n",
       "      <td>0.496924</td>\n",
       "      <td>0.266353</td>\n",
       "      <td>0.489508</td>\n",
       "      <td>0.279375</td>\n",
       "      <td>0.867683</td>\n",
       "      <td>1.000000</td>\n",
       "    </tr>\n",
       "  </tbody>\n",
       "</table>\n",
       "</div>"
      ],
      "text/plain": [
       "              apple     googl      AMZN  microsoft     tesla        gs  \\\n",
       "apple      1.000000  0.718022  0.658961   0.808385  0.521604  0.535202   \n",
       "googl      0.718022  1.000000  0.660391   0.815402  0.461386  0.549527   \n",
       "AMZN       0.658961  0.660391  1.000000   0.689451  0.473583  0.359247   \n",
       "microsoft  0.808385  0.815402  0.689451   1.000000  0.515574  0.541347   \n",
       "tesla      0.521604  0.461386  0.473583   0.515574  1.000000  0.351963   \n",
       "gs         0.535202  0.549527  0.359247   0.541347  0.351963  1.000000   \n",
       "jpmc       0.469842  0.496924  0.266353   0.489508  0.279375  0.867683   \n",
       "\n",
       "               jpmc  \n",
       "apple      0.469842  \n",
       "googl      0.496924  \n",
       "AMZN       0.266353  \n",
       "microsoft  0.489508  \n",
       "tesla      0.279375  \n",
       "gs         0.867683  \n",
       "jpmc       1.000000  "
      ]
     },
     "execution_count": 39,
     "metadata": {},
     "output_type": "execute_result"
    }
   ],
   "source": [
    "# To calculate correlation matrix between stocks:\n",
    "stk.pct_change(1).corr()"
   ]
  },
  {
   "cell_type": "markdown",
   "id": "36f1f3f4",
   "metadata": {},
   "source": [
    "# now, we're using logarithmic returns instead of arithmetic returns.\n",
    "\n"
   ]
  },
  {
   "cell_type": "code",
   "execution_count": 50,
   "id": "c6e167be",
   "metadata": {},
   "outputs": [
    {
     "data": {
      "text/html": [
       "<div>\n",
       "<style scoped>\n",
       "    .dataframe tbody tr th:only-of-type {\n",
       "        vertical-align: middle;\n",
       "    }\n",
       "\n",
       "    .dataframe tbody tr th {\n",
       "        vertical-align: top;\n",
       "    }\n",
       "\n",
       "    .dataframe thead th {\n",
       "        text-align: right;\n",
       "    }\n",
       "</style>\n",
       "<table border=\"1\" class=\"dataframe\">\n",
       "  <thead>\n",
       "    <tr style=\"text-align: right;\">\n",
       "      <th></th>\n",
       "      <th>apple</th>\n",
       "      <th>googl</th>\n",
       "      <th>AMZN</th>\n",
       "      <th>microsoft</th>\n",
       "      <th>tesla</th>\n",
       "      <th>gs</th>\n",
       "      <th>jpmc</th>\n",
       "    </tr>\n",
       "    <tr>\n",
       "      <th>Date</th>\n",
       "      <th></th>\n",
       "      <th></th>\n",
       "      <th></th>\n",
       "      <th></th>\n",
       "      <th></th>\n",
       "      <th></th>\n",
       "      <th></th>\n",
       "    </tr>\n",
       "  </thead>\n",
       "  <tbody>\n",
       "    <tr>\n",
       "      <th>2019-12-31</th>\n",
       "      <td>NaN</td>\n",
       "      <td>NaN</td>\n",
       "      <td>NaN</td>\n",
       "      <td>NaN</td>\n",
       "      <td>NaN</td>\n",
       "      <td>NaN</td>\n",
       "      <td>NaN</td>\n",
       "    </tr>\n",
       "    <tr>\n",
       "      <th>2020-01-02</th>\n",
       "      <td>1.022816</td>\n",
       "      <td>1.021868</td>\n",
       "      <td>1.027151</td>\n",
       "      <td>1.018516</td>\n",
       "      <td>1.028518</td>\n",
       "      <td>1.019093</td>\n",
       "      <td>1.012124</td>\n",
       "    </tr>\n",
       "    <tr>\n",
       "      <th>2020-01-03</th>\n",
       "      <td>0.990278</td>\n",
       "      <td>0.994769</td>\n",
       "      <td>0.987861</td>\n",
       "      <td>0.987548</td>\n",
       "      <td>1.029633</td>\n",
       "      <td>0.988307</td>\n",
       "      <td>0.986803</td>\n",
       "    </tr>\n",
       "    <tr>\n",
       "      <th>2020-01-06</th>\n",
       "      <td>1.007968</td>\n",
       "      <td>1.026654</td>\n",
       "      <td>1.014886</td>\n",
       "      <td>1.002585</td>\n",
       "      <td>1.019255</td>\n",
       "      <td>1.010234</td>\n",
       "      <td>0.999205</td>\n",
       "    </tr>\n",
       "    <tr>\n",
       "      <th>2020-01-07</th>\n",
       "      <td>0.995297</td>\n",
       "      <td>0.998068</td>\n",
       "      <td>1.002092</td>\n",
       "      <td>0.990882</td>\n",
       "      <td>1.038801</td>\n",
       "      <td>1.006583</td>\n",
       "      <td>0.982999</td>\n",
       "    </tr>\n",
       "    <tr>\n",
       "      <th>...</th>\n",
       "      <td>...</td>\n",
       "      <td>...</td>\n",
       "      <td>...</td>\n",
       "      <td>...</td>\n",
       "      <td>...</td>\n",
       "      <td>...</td>\n",
       "      <td>...</td>\n",
       "    </tr>\n",
       "    <tr>\n",
       "      <th>2022-08-09</th>\n",
       "      <td>1.000303</td>\n",
       "      <td>0.994288</td>\n",
       "      <td>0.988667</td>\n",
       "      <td>1.007063</td>\n",
       "      <td>0.975587</td>\n",
       "      <td>1.005797</td>\n",
       "      <td>1.009007</td>\n",
       "    </tr>\n",
       "    <tr>\n",
       "      <th>2022-08-10</th>\n",
       "      <td>1.026195</td>\n",
       "      <td>1.026323</td>\n",
       "      <td>1.035261</td>\n",
       "      <td>1.024300</td>\n",
       "      <td>1.038906</td>\n",
       "      <td>1.033539</td>\n",
       "      <td>1.026088</td>\n",
       "    </tr>\n",
       "    <tr>\n",
       "      <th>2022-08-11</th>\n",
       "      <td>0.995568</td>\n",
       "      <td>0.992815</td>\n",
       "      <td>0.985633</td>\n",
       "      <td>0.992599</td>\n",
       "      <td>0.973751</td>\n",
       "      <td>1.010836</td>\n",
       "      <td>1.014782</td>\n",
       "    </tr>\n",
       "    <tr>\n",
       "      <th>2022-08-12</th>\n",
       "      <td>1.021426</td>\n",
       "      <td>1.023898</td>\n",
       "      <td>1.020691</td>\n",
       "      <td>1.017037</td>\n",
       "      <td>1.046750</td>\n",
       "      <td>1.006085</td>\n",
       "      <td>1.016564</td>\n",
       "    </tr>\n",
       "    <tr>\n",
       "      <th>2022-08-15</th>\n",
       "      <td>1.005549</td>\n",
       "      <td>1.001972</td>\n",
       "      <td>0.995751</td>\n",
       "      <td>1.003015</td>\n",
       "      <td>1.032341</td>\n",
       "      <td>1.008860</td>\n",
       "      <td>1.000901</td>\n",
       "    </tr>\n",
       "  </tbody>\n",
       "</table>\n",
       "<p>661 rows × 7 columns</p>\n",
       "</div>"
      ],
      "text/plain": [
       "               apple     googl      AMZN  microsoft     tesla        gs  \\\n",
       "Date                                                                      \n",
       "2019-12-31       NaN       NaN       NaN        NaN       NaN       NaN   \n",
       "2020-01-02  1.022816  1.021868  1.027151   1.018516  1.028518  1.019093   \n",
       "2020-01-03  0.990278  0.994769  0.987861   0.987548  1.029633  0.988307   \n",
       "2020-01-06  1.007968  1.026654  1.014886   1.002585  1.019255  1.010234   \n",
       "2020-01-07  0.995297  0.998068  1.002092   0.990882  1.038801  1.006583   \n",
       "...              ...       ...       ...        ...       ...       ...   \n",
       "2022-08-09  1.000303  0.994288  0.988667   1.007063  0.975587  1.005797   \n",
       "2022-08-10  1.026195  1.026323  1.035261   1.024300  1.038906  1.033539   \n",
       "2022-08-11  0.995568  0.992815  0.985633   0.992599  0.973751  1.010836   \n",
       "2022-08-12  1.021426  1.023898  1.020691   1.017037  1.046750  1.006085   \n",
       "2022-08-15  1.005549  1.001972  0.995751   1.003015  1.032341  1.008860   \n",
       "\n",
       "                jpmc  \n",
       "Date                  \n",
       "2019-12-31       NaN  \n",
       "2020-01-02  1.012124  \n",
       "2020-01-03  0.986803  \n",
       "2020-01-06  0.999205  \n",
       "2020-01-07  0.982999  \n",
       "...              ...  \n",
       "2022-08-09  1.009007  \n",
       "2022-08-10  1.026088  \n",
       "2022-08-11  1.014782  \n",
       "2022-08-12  1.016564  \n",
       "2022-08-15  1.000901  \n",
       "\n",
       "[661 rows x 7 columns]"
      ]
     },
     "execution_count": 50,
     "metadata": {},
     "output_type": "execute_result"
    }
   ],
   "source": [
    "# daily Return\n",
    "ret = stk/stk.shift(1)\n",
    "ret"
   ]
  },
  {
   "cell_type": "code",
   "execution_count": 42,
   "id": "048f020e",
   "metadata": {},
   "outputs": [
    {
     "data": {
      "text/html": [
       "<div>\n",
       "<style scoped>\n",
       "    .dataframe tbody tr th:only-of-type {\n",
       "        vertical-align: middle;\n",
       "    }\n",
       "\n",
       "    .dataframe tbody tr th {\n",
       "        vertical-align: top;\n",
       "    }\n",
       "\n",
       "    .dataframe thead th {\n",
       "        text-align: right;\n",
       "    }\n",
       "</style>\n",
       "<table border=\"1\" class=\"dataframe\">\n",
       "  <thead>\n",
       "    <tr style=\"text-align: right;\">\n",
       "      <th></th>\n",
       "      <th>apple</th>\n",
       "      <th>googl</th>\n",
       "      <th>AMZN</th>\n",
       "      <th>microsoft</th>\n",
       "      <th>tesla</th>\n",
       "      <th>gs</th>\n",
       "      <th>jpmc</th>\n",
       "    </tr>\n",
       "    <tr>\n",
       "      <th>Date</th>\n",
       "      <th></th>\n",
       "      <th></th>\n",
       "      <th></th>\n",
       "      <th></th>\n",
       "      <th></th>\n",
       "      <th></th>\n",
       "      <th></th>\n",
       "    </tr>\n",
       "  </thead>\n",
       "  <tbody>\n",
       "    <tr>\n",
       "      <th>2019-12-31</th>\n",
       "      <td>NaN</td>\n",
       "      <td>NaN</td>\n",
       "      <td>NaN</td>\n",
       "      <td>NaN</td>\n",
       "      <td>NaN</td>\n",
       "      <td>NaN</td>\n",
       "      <td>NaN</td>\n",
       "    </tr>\n",
       "    <tr>\n",
       "      <th>2020-01-02</th>\n",
       "      <td>0.022560</td>\n",
       "      <td>0.021632</td>\n",
       "      <td>0.026789</td>\n",
       "      <td>0.018347</td>\n",
       "      <td>0.028119</td>\n",
       "      <td>0.018913</td>\n",
       "      <td>0.012051</td>\n",
       "    </tr>\n",
       "    <tr>\n",
       "      <th>2020-01-03</th>\n",
       "      <td>-0.009770</td>\n",
       "      <td>-0.005245</td>\n",
       "      <td>-0.012213</td>\n",
       "      <td>-0.012530</td>\n",
       "      <td>0.029203</td>\n",
       "      <td>-0.011762</td>\n",
       "      <td>-0.013284</td>\n",
       "    </tr>\n",
       "    <tr>\n",
       "      <th>2020-01-06</th>\n",
       "      <td>0.007937</td>\n",
       "      <td>0.026305</td>\n",
       "      <td>0.014776</td>\n",
       "      <td>0.002582</td>\n",
       "      <td>0.019072</td>\n",
       "      <td>0.010182</td>\n",
       "      <td>-0.000796</td>\n",
       "    </tr>\n",
       "    <tr>\n",
       "      <th>2020-01-07</th>\n",
       "      <td>-0.004714</td>\n",
       "      <td>-0.001933</td>\n",
       "      <td>0.002089</td>\n",
       "      <td>-0.009159</td>\n",
       "      <td>0.038067</td>\n",
       "      <td>0.006561</td>\n",
       "      <td>-0.017147</td>\n",
       "    </tr>\n",
       "  </tbody>\n",
       "</table>\n",
       "</div>"
      ],
      "text/plain": [
       "               apple     googl      AMZN  microsoft     tesla        gs  \\\n",
       "Date                                                                      \n",
       "2019-12-31       NaN       NaN       NaN        NaN       NaN       NaN   \n",
       "2020-01-02  0.022560  0.021632  0.026789   0.018347  0.028119  0.018913   \n",
       "2020-01-03 -0.009770 -0.005245 -0.012213  -0.012530  0.029203 -0.011762   \n",
       "2020-01-06  0.007937  0.026305  0.014776   0.002582  0.019072  0.010182   \n",
       "2020-01-07 -0.004714 -0.001933  0.002089  -0.009159  0.038067  0.006561   \n",
       "\n",
       "                jpmc  \n",
       "Date                  \n",
       "2019-12-31       NaN  \n",
       "2020-01-02  0.012051  \n",
       "2020-01-03 -0.013284  \n",
       "2020-01-06 -0.000796  \n",
       "2020-01-07 -0.017147  "
      ]
     },
     "execution_count": 42,
     "metadata": {},
     "output_type": "execute_result"
    }
   ],
   "source": [
    "# log daily return\n",
    "lg_ret = np.log(stk/stk.shift(1))\n",
    "lg_ret.head()"
   ]
  },
  {
   "cell_type": "code",
   "execution_count": 43,
   "id": "acccc05a",
   "metadata": {},
   "outputs": [
    {
     "data": {
      "text/html": [
       "<div>\n",
       "<style scoped>\n",
       "    .dataframe tbody tr th:only-of-type {\n",
       "        vertical-align: middle;\n",
       "    }\n",
       "\n",
       "    .dataframe tbody tr th {\n",
       "        vertical-align: top;\n",
       "    }\n",
       "\n",
       "    .dataframe thead th {\n",
       "        text-align: right;\n",
       "    }\n",
       "</style>\n",
       "<table border=\"1\" class=\"dataframe\">\n",
       "  <thead>\n",
       "    <tr style=\"text-align: right;\">\n",
       "      <th></th>\n",
       "      <th>apple</th>\n",
       "      <th>googl</th>\n",
       "      <th>AMZN</th>\n",
       "      <th>microsoft</th>\n",
       "      <th>tesla</th>\n",
       "      <th>gs</th>\n",
       "      <th>jpmc</th>\n",
       "    </tr>\n",
       "  </thead>\n",
       "  <tbody>\n",
       "    <tr>\n",
       "      <th>apple</th>\n",
       "      <td>0.134919</td>\n",
       "      <td>0.089847</td>\n",
       "      <td>0.092510</td>\n",
       "      <td>0.102888</td>\n",
       "      <td>0.143701</td>\n",
       "      <td>0.076912</td>\n",
       "      <td>0.067934</td>\n",
       "    </tr>\n",
       "    <tr>\n",
       "      <th>googl</th>\n",
       "      <td>0.089847</td>\n",
       "      <td>0.114300</td>\n",
       "      <td>0.085384</td>\n",
       "      <td>0.095419</td>\n",
       "      <td>0.117125</td>\n",
       "      <td>0.072915</td>\n",
       "      <td>0.066309</td>\n",
       "    </tr>\n",
       "    <tr>\n",
       "      <th>AMZN</th>\n",
       "      <td>0.092510</td>\n",
       "      <td>0.085384</td>\n",
       "      <td>0.144523</td>\n",
       "      <td>0.090765</td>\n",
       "      <td>0.133304</td>\n",
       "      <td>0.053748</td>\n",
       "      <td>0.040182</td>\n",
       "    </tr>\n",
       "    <tr>\n",
       "      <th>microsoft</th>\n",
       "      <td>0.102888</td>\n",
       "      <td>0.095419</td>\n",
       "      <td>0.090765</td>\n",
       "      <td>0.118961</td>\n",
       "      <td>0.133593</td>\n",
       "      <td>0.072995</td>\n",
       "      <td>0.066397</td>\n",
       "    </tr>\n",
       "    <tr>\n",
       "      <th>tesla</th>\n",
       "      <td>0.143701</td>\n",
       "      <td>0.117125</td>\n",
       "      <td>0.133304</td>\n",
       "      <td>0.133593</td>\n",
       "      <td>0.536645</td>\n",
       "      <td>0.103550</td>\n",
       "      <td>0.084136</td>\n",
       "    </tr>\n",
       "    <tr>\n",
       "      <th>gs</th>\n",
       "      <td>0.076912</td>\n",
       "      <td>0.072915</td>\n",
       "      <td>0.053748</td>\n",
       "      <td>0.072995</td>\n",
       "      <td>0.103550</td>\n",
       "      <td>0.150985</td>\n",
       "      <td>0.131478</td>\n",
       "    </tr>\n",
       "    <tr>\n",
       "      <th>jpmc</th>\n",
       "      <td>0.067934</td>\n",
       "      <td>0.066309</td>\n",
       "      <td>0.040182</td>\n",
       "      <td>0.066397</td>\n",
       "      <td>0.084136</td>\n",
       "      <td>0.131478</td>\n",
       "      <td>0.151984</td>\n",
       "    </tr>\n",
       "  </tbody>\n",
       "</table>\n",
       "</div>"
      ],
      "text/plain": [
       "              apple     googl      AMZN  microsoft     tesla        gs  \\\n",
       "apple      0.134919  0.089847  0.092510   0.102888  0.143701  0.076912   \n",
       "googl      0.089847  0.114300  0.085384   0.095419  0.117125  0.072915   \n",
       "AMZN       0.092510  0.085384  0.144523   0.090765  0.133304  0.053748   \n",
       "microsoft  0.102888  0.095419  0.090765   0.118961  0.133593  0.072995   \n",
       "tesla      0.143701  0.117125  0.133304   0.133593  0.536645  0.103550   \n",
       "gs         0.076912  0.072915  0.053748   0.072995  0.103550  0.150985   \n",
       "jpmc       0.067934  0.066309  0.040182   0.066397  0.084136  0.131478   \n",
       "\n",
       "               jpmc  \n",
       "apple      0.067934  \n",
       "googl      0.066309  \n",
       "AMZN       0.040182  \n",
       "microsoft  0.066397  \n",
       "tesla      0.084136  \n",
       "gs         0.131478  \n",
       "jpmc       0.151984  "
      ]
     },
     "execution_count": 43,
     "metadata": {},
     "output_type": "execute_result"
    }
   ],
   "source": [
    "# cov matrix for annual log return\n",
    "cov = lg_ret.cov() * 252\n",
    "cov"
   ]
  },
  {
   "cell_type": "markdown",
   "id": "93d2444e",
   "metadata": {},
   "source": [
    "From these, we can see how close the arithmetic and log returns are, but logarithmic returns are a bit more convenient for some analysis techniques.\n",
    "\n",
    "Before we run thousands of random allocations, let's do a single random allocation. To do this we're going to:\n",
    "\n",
    "Set our weights to a random NumPy array\n",
    "Rebalance the weights so they add up to one\n",
    "Calculate the expected portfolio return\n",
    "Calculate the expected portfolio volatility\n",
    "Calculate the Sharpe Ratio"
   ]
  },
  {
   "cell_type": "code",
   "execution_count": 44,
   "id": "04513498",
   "metadata": {},
   "outputs": [
    {
     "name": "stdout",
     "output_type": "stream",
     "text": [
      "Index(['apple', 'googl', 'AMZN', 'microsoft', 'tesla', 'gs', 'jpmc'], dtype='object')\n",
      "Random Weights:\n",
      "[0.51639863 0.57066759 0.02847423 0.17152166 0.68527698 0.83389686\n",
      " 0.30696622]\n",
      "Rebalance\n",
      "[0.51639863 0.57066759 0.02847423 0.17152166 0.68527698 0.83389686\n",
      " 0.30696622]\n",
      "Expected Portfolio log_mean Return\n",
      "1.1261738151324308\n",
      "Expected Volatility\n",
      "1.0985879511709935\n",
      "Sharpe Ratio\n",
      "1.0251102917449926\n"
     ]
    }
   ],
   "source": [
    "np.random.seed(101)\n",
    "\n",
    "print(stk.columns)\n",
    "sigma = lg_ret.cov()\n",
    "\n",
    "weights = np.array(np.random.random(7))\n",
    "w= weights\n",
    "print('Random Weights:')\n",
    "print(w)\n",
    "\n",
    "print('Rebalance')\n",
    "weights = w/np.sum(w)\n",
    "print(w)\n",
    "\n",
    "# expected log_mean return\n",
    "print('Expected Portfolio log_mean Return')\n",
    "exp_ret = np.sum((lg_ret.mean()*w)*252)\n",
    "print(exp_ret)\n",
    "\n",
    "# expected volatility\n",
    "print('Expected Volatility')\n",
    "exp_vol = np.sqrt(np.dot(w.T,np.dot(sigma * 252, w)))\n",
    "print(exp_vol)\n",
    "\n",
    "# Sharpe Ratio\n",
    "print('Sharpe Ratio')\n",
    "SR = exp_ret/exp_vol\n",
    "print(SR)"
   ]
  },
  {
   "cell_type": "code",
   "execution_count": 45,
   "id": "73628c21",
   "metadata": {},
   "outputs": [
    {
     "data": {
      "text/plain": [
       "1.0251102917449926"
      ]
     },
     "execution_count": 45,
     "metadata": {},
     "output_type": "execute_result"
    }
   ],
   "source": [
    "SR.max()"
   ]
  },
  {
   "cell_type": "markdown",
   "id": "6e7ef46b",
   "metadata": {},
   "source": [
    "Now repeat the above process and repeat it thousands of times.\n",
    "\n",
    "To do this we're going to:\n",
    "\n",
    "Get rid of the print statements\n",
    "Set the number of portfolios to simulate - in this case num_ports = 50000\n",
    "Create an array all_weights to hold all the weights so we can save them\n",
    "Create an array to hold all the returns ret_arr\n",
    "Create an array to hold all the volatility measurements vol_arr\n",
    "Create an array of the Sharpe Ratios we calculate sharpe_arr\n",
    "Put the remaining code in a for loop."
   ]
  },
  {
   "cell_type": "markdown",
   "id": "cf7ceac7",
   "metadata": {},
   "source": [
    "# Monte carlo simulation "
   ]
  },
  {
   "cell_type": "code",
   "execution_count": 47,
   "id": "ec945cd4",
   "metadata": {},
   "outputs": [
    {
     "name": "stdout",
     "output_type": "stream",
     "text": [
      "opt_retrun : 0.2679832917295001\n",
      "opt_volatility : 0.31596211988749945\n",
      "opt_Sarpe_Ratio : 0.8481500624977368\n"
     ]
    }
   ],
   "source": [
    "# mote carlo simulation\n",
    "\n",
    "num_ports = 50000\n",
    "all_weights = np.zeros((num_ports, len(stk.columns)))\n",
    "opt_ret = np.zeros(num_ports)\n",
    "opt_vol = np.zeros(num_ports)\n",
    "opt_SR = np.zeros(num_ports)\n",
    "\n",
    "for ind in range(num_ports): \n",
    "    # weights \n",
    "    weights = np.array(np.random.random(7)) \n",
    "    w  = weights\n",
    "    w = w/np.sum(w)  \n",
    "\n",
    "    # save the weights\n",
    "    all_weights[ind,:] = w\n",
    "\n",
    "    # expected return \n",
    "    opt_ret[ind] = np.sum((lg_ret.mean()*w)*252)\n",
    "\n",
    "\n",
    "    # expected volatility \n",
    "    opt_vol[ind] = np.sqrt(np.dot(w.T,np.dot(lg_ret.cov()*252, w)))\n",
    "\n",
    "    # Sharpe Ratio \n",
    "    opt_SR[ind] = opt_ret[ind]/opt_vol[ind]\n",
    "\n",
    "    \n",
    "print('opt_retrun :', opt_ret[ind])\n",
    "print('opt_volatility :', opt_vol[ind])    \n",
    "print('opt_Sarpe_Ratio :',  opt_SR[ind])"
   ]
  },
  {
   "cell_type": "markdown",
   "id": "d9891d6b",
   "metadata": {},
   "source": [
    "# Let's now look at the maximum Sharpe Ratio we got:"
   ]
  },
  {
   "cell_type": "code",
   "execution_count": 48,
   "id": "e76e566c",
   "metadata": {},
   "outputs": [
    {
     "data": {
      "text/plain": [
       "1.2515881133309055"
      ]
     },
     "execution_count": 48,
     "metadata": {},
     "output_type": "execute_result"
    }
   ],
   "source": [
    "opt_SR.max()"
   ]
  },
  {
   "cell_type": "code",
   "execution_count": 49,
   "id": "77f372fd",
   "metadata": {},
   "outputs": [
    {
     "data": {
      "text/plain": [
       "0.06332040650432494"
      ]
     },
     "execution_count": 49,
     "metadata": {},
     "output_type": "execute_result"
    }
   ],
   "source": [
    "opt_ret.std()"
   ]
  },
  {
   "cell_type": "markdown",
   "id": "c9119f2e",
   "metadata": {},
   "source": [
    "# Index location for the best allocation:"
   ]
  },
  {
   "cell_type": "code",
   "execution_count": 50,
   "id": "38e13f15",
   "metadata": {},
   "outputs": [
    {
     "data": {
      "text/plain": [
       "2330"
      ]
     },
     "execution_count": 50,
     "metadata": {},
     "output_type": "execute_result"
    }
   ],
   "source": [
    "opt_SR.argmax()"
   ]
  },
  {
   "cell_type": "markdown",
   "id": "0253eb5e",
   "metadata": {},
   "source": [
    "# optimal allocation"
   ]
  },
  {
   "cell_type": "code",
   "execution_count": 51,
   "id": "c21f2975",
   "metadata": {},
   "outputs": [
    {
     "name": "stdout",
     "output_type": "stream",
     "text": [
      "[0.26893599 0.09716871 0.02476401 0.00737392 0.54007811 0.03351502\n",
      " 0.02816424]\n"
     ]
    }
   ],
   "source": [
    "# initial (20% in APL, 40% in AMZN , 30% in GOOGL, 10% in MST)\n",
    "all_weights[opt_SR.argmax(),:]       \n",
    "\n",
    "print (all_weights[opt_SR.argmax(),:])  \n",
    "                                     "
   ]
  },
  {
   "cell_type": "code",
   "execution_count": 52,
   "id": "113ce251",
   "metadata": {},
   "outputs": [
    {
     "data": {
      "text/plain": [
       "Text(0, 0.5, 'Return')"
      ]
     },
     "execution_count": 52,
     "metadata": {},
     "output_type": "execute_result"
    },
    {
     "data": {
      "image/png": "[encoded data removed]",
      "text/plain": [
       "<Figure size 1080x576 with 2 Axes>"
      ]
     },
     "metadata": {
      "needs_background": "light"
     },
     "output_type": "display_data"
    }
   ],
   "source": [
    "# plot the data\n",
    "plt.figure(figsize=(15,8))\n",
    "plt.scatter(opt_vol,opt_ret,c=opt_SR,cmap='plasma')\n",
    "plt.colorbar(label='Sharpe Ratio')\n",
    "plt.xlabel('Volatility (Risk)')\n",
    "plt.ylabel('Return')"
   ]
  },
  {
   "cell_type": "markdown",
   "id": "04d49fa2",
   "metadata": {},
   "source": [
    "Let's now put a red dot at the location of the maximum Sharpe Ratio.\n",
    "\n",
    "To do this we're first going to get the maximum Sharpe Ratio return and the maximum Sharpe Ratio volatility at the optimal allocation index:"
   ]
  },
  {
   "cell_type": "code",
   "execution_count": 53,
   "id": "294692c4",
   "metadata": {},
   "outputs": [],
   "source": [
    "max_opt_sr_ret = opt_ret[2330]\n",
    "max_opt_sr_vol = opt_vol[2330]"
   ]
  },
  {
   "cell_type": "code",
   "execution_count": 54,
   "id": "54bb07c6",
   "metadata": {},
   "outputs": [
    {
     "data": {
      "text/plain": [
       "<matplotlib.collections.PathCollection at 0x220eff5edd0>"
      ]
     },
     "execution_count": 54,
     "metadata": {},
     "output_type": "execute_result"
    },
    {
     "data": {
      "image/png": "[encoded data removed]",
      "text/plain": [
       "<Figure size 1080x576 with 2 Axes>"
      ]
     },
     "metadata": {
      "needs_background": "light"
     },
     "output_type": "display_data"
    }
   ],
   "source": [
    "# plot the data\n",
    "plt.figure(figsize=(15,8))\n",
    "plt.scatter(opt_vol,opt_ret,c=opt_SR,cmap='plasma')\n",
    "plt.colorbar(label='Sharpe Ratio')\n",
    "plt.xlabel('Volatility (Risk)')\n",
    "plt.ylabel('Return')\n",
    "# add a red dot for max_sr_vol & max_sr_ret\n",
    "plt.scatter(max_opt_sr_vol, max_opt_sr_ret, c='red', s=50, edgecolors='black')"
   ]
  },
  {
   "cell_type": "markdown",
   "id": "bf85de5e",
   "metadata": {},
   "source": [
    "# observation\n",
    "graph showing very high return at very high risk"
   ]
  },
  {
   "cell_type": "markdown",
   "id": "e6880227",
   "metadata": {},
   "source": [
    "# Markowitz mathematical optimization algorithm\n",
    "now move on from random allocations to a mathematical optimization algorithm.\n",
    "\n",
    "All of the heavy lifting for this optimization will be done with SciPy, so we just have to do a few things to set up the optimization function.\n",
    "\n",
    "Let's start with a simple function that takes in weights and returns back an array consisting of returns, volatility, and the Sharpe Ratio.\n",
    "\n",
    "We define the function as get_ret_vol_sr and pass in weights\n",
    "We make sure that weights are a Numpy array\n",
    "We calculate the return, volatility, and Sharpe Ratio\n",
    "Return an array of return, volatility, and the Sharpe Ratio\n"
   ]
  },
  {
   "cell_type": "code",
   "execution_count": 55,
   "id": "7afddb74",
   "metadata": {},
   "outputs": [],
   "source": [
    "from scipy.optimize import minimize"
   ]
  },
  {
   "cell_type": "code",
   "execution_count": 56,
   "id": "03b8f9e9",
   "metadata": {},
   "outputs": [],
   "source": [
    "def get_ret_volt_sr(w): \n",
    "    w = np.array(w)\n",
    "    ret = np.sum(lg_ret.mean() * w) * 252\n",
    "    volt = np.sqrt(np.dot(w.T,np.dot(lg_ret.cov()*252,w)))\n",
    "    sr = ret/volt \n",
    "    return np.array([ret,volt,sr])"
   ]
  },
  {
   "cell_type": "code",
   "execution_count": 57,
   "id": "c15c8dd5",
   "metadata": {},
   "outputs": [],
   "source": [
    "# Markowitz efficient frontier\n",
    "\n",
    "# To minimize negative Sharpe Ratio\n",
    "\n",
    "def neg_sharpe(w): \n",
    "    return get_ret_volt_sr(w)[2] * -1"
   ]
  },
  {
   "cell_type": "code",
   "execution_count": 58,
   "id": "b335dafa",
   "metadata": {},
   "outputs": [],
   "source": [
    "# check allocation sums to 1\n",
    "def check_sum(w): \n",
    "    return np.sum(w) - 1"
   ]
  },
  {
   "cell_type": "code",
   "execution_count": 59,
   "id": "59bc5088",
   "metadata": {},
   "outputs": [
    {
     "data": {
      "text/plain": [
       "{'type': 'eq', 'fun': <function __main__.check_sum(w)>}"
      ]
     },
     "execution_count": 59,
     "metadata": {},
     "output_type": "execute_result"
    }
   ],
   "source": [
    "# create constraint variable\n",
    "cons = ({'type':'eq','fun':check_sum})\n",
    "cons"
   ]
  },
  {
   "cell_type": "code",
   "execution_count": 60,
   "id": "e431b7ed",
   "metadata": {},
   "outputs": [],
   "source": [
    " # create a bounds variable—this takes in 4 tuples of \n",
    "# the upper and lower bounds for the portfolio allocation weights: 0 and 1.\n",
    "\n",
    "# create weight boundaries\n",
    "bounds = ((0,1),(0,1),(0,1),(0,1),(0,1),(0,1),(0,1))\n",
    "\n"
   ]
  },
  {
   "cell_type": "code",
   "execution_count": 61,
   "id": "96e38424",
   "metadata": {},
   "outputs": [],
   "source": [
    "# Finally, we need to create an initial guess to start with, and usually, the best initial guess is just an even distribution:\n",
    "    \n",
    "    # initial guess\n",
    "init_guess = [0.25, 0.25, 0.25, 0.25,0.25,0.25,0.25]"
   ]
  },
  {
   "cell_type": "markdown",
   "id": "7e477346",
   "metadata": {},
   "source": [
    "Let's now put all of these into the minimization function.\n",
    "\n",
    "First, we call minimize and pass in what we're trying to minimize—negative Sharpe,\n",
    "our initial guess, we set the minimization method to SLSQP, and we set our bounds and constraints:\n",
    "\n"
   ]
  },
  {
   "cell_type": "code",
   "execution_count": 62,
   "id": "7785e74f",
   "metadata": {},
   "outputs": [
    {
     "data": {
      "text/plain": [
       "     fun: -1.2802940790336783\n",
       "     jac: array([-5.26353717e-04,  4.78611290e-02,  2.01160520e-01,  8.33021998e-02,\n",
       "        3.33577394e-04,  6.67861700e-02,  3.70684564e-01])\n",
       " message: 'Optimization terminated successfully'\n",
       "    nfev: 56\n",
       "     nit: 7\n",
       "    njev: 7\n",
       "  status: 0\n",
       " success: True\n",
       "       x: array([3.87919590e-01, 0.00000000e+00, 8.67361738e-19, 3.16587034e-17,\n",
       "       6.12080410e-01, 8.67361738e-19, 1.34007389e-16])"
      ]
     },
     "execution_count": 62,
     "metadata": {},
     "output_type": "execute_result"
    }
   ],
   "source": [
    "# by mathematical optimization algorithm.\n",
    "opt_results = minimize(neg_sharpe, init_guess, method='SLSQP', bounds=bounds, constraints=cons)\n",
    "opt_results"
   ]
  },
  {
   "cell_type": "code",
   "execution_count": 63,
   "id": "1bcc2eeb",
   "metadata": {},
   "outputs": [
    {
     "data": {
      "text/plain": [
       "array([3.87919590e-01, 0.00000000e+00, 8.67361738e-19, 3.16587034e-17,\n",
       "       6.12080410e-01, 8.67361738e-19, 1.34007389e-16])"
      ]
     },
     "execution_count": 63,
     "metadata": {},
     "output_type": "execute_result"
    }
   ],
   "source": [
    "opt_results.x"
   ]
  },
  {
   "cell_type": "code",
   "execution_count": 64,
   "id": "804b2391",
   "metadata": {},
   "outputs": [
    {
     "data": {
      "text/plain": [
       "array([0.68897573, 0.53813866, 1.28029408])"
      ]
     },
     "execution_count": 64,
     "metadata": {},
     "output_type": "execute_result"
    }
   ],
   "source": [
    "get_ret_volt_sr(opt_results.x)"
   ]
  },
  {
   "cell_type": "code",
   "execution_count": 65,
   "id": "99fc4eef",
   "metadata": {},
   "outputs": [
    {
     "data": {
      "text/plain": [
       "1.2515881133309055"
      ]
     },
     "execution_count": 65,
     "metadata": {},
     "output_type": "execute_result"
    }
   ],
   "source": [
    "# by monte carlo simulation\n",
    "\n",
    "opt_SR.max()"
   ]
  },
  {
   "cell_type": "code",
   "execution_count": 68,
   "id": "209708d7",
   "metadata": {},
   "outputs": [],
   "source": [
    "x=1.25 # by monte carlo simulation"
   ]
  },
  {
   "cell_type": "code",
   "execution_count": 70,
   "id": "b1f6bcab",
   "metadata": {},
   "outputs": [],
   "source": [
    "y=1.28 # by markowitz "
   ]
  },
  {
   "cell_type": "code",
   "execution_count": 72,
   "id": "a8851071",
   "metadata": {},
   "outputs": [],
   "source": [
    "z = 1.025 # before optimization"
   ]
  },
  {
   "cell_type": "code",
   "execution_count": 85,
   "id": "8d3e4398",
   "metadata": {},
   "outputs": [
    {
     "data": {
      "text/html": [
       "<div>\n",
       "<style scoped>\n",
       "    .dataframe tbody tr th:only-of-type {\n",
       "        vertical-align: middle;\n",
       "    }\n",
       "\n",
       "    .dataframe tbody tr th {\n",
       "        vertical-align: top;\n",
       "    }\n",
       "\n",
       "    .dataframe thead th {\n",
       "        text-align: right;\n",
       "    }\n",
       "</style>\n",
       "<table border=\"1\" class=\"dataframe\">\n",
       "  <thead>\n",
       "    <tr style=\"text-align: right;\">\n",
       "      <th></th>\n",
       "      <th>index</th>\n",
       "      <th>Monte Carlo</th>\n",
       "      <th>Markowitz</th>\n",
       "      <th>Before optimization</th>\n",
       "    </tr>\n",
       "  </thead>\n",
       "  <tbody>\n",
       "    <tr>\n",
       "      <th>0</th>\n",
       "      <td>1</td>\n",
       "      <td>1.25</td>\n",
       "      <td>1.28</td>\n",
       "      <td>1.025</td>\n",
       "    </tr>\n",
       "  </tbody>\n",
       "</table>\n",
       "</div>"
      ],
      "text/plain": [
       "   index  Monte Carlo  Markowitz  Before optimization\n",
       "0      1         1.25       1.28                1.025"
      ]
     },
     "execution_count": 85,
     "metadata": {},
     "output_type": "execute_result"
    }
   ],
   "source": [
    "index=np.array([1])\n",
    "\n",
    "result = pd.DataFrame({\"index\": index,\n",
    "                       \"Monte Carlo\" : x,\n",
    "                       \"Markowitz\": y,\n",
    "                       \"Before optimization\":z})\n",
    "result"
   ]
  },
  {
   "cell_type": "code",
   "execution_count": null,
   "id": "cbafa637",
   "metadata": {},
   "outputs": [],
   "source": []
  }
 ],
 "metadata": {
  "kernelspec": {
   "display_name": "Python 3 (ipykernel)",
   "language": "python",
   "name": "python3"
  },
  "language_info": {
   "codemirror_mode": {
    "name": "ipython",
    "version": 3
   },
   "file_extension": ".py",
   "mimetype": "text/x-python",
   "name": "python",
   "nbconvert_exporter": "python",
   "pygments_lexer": "ipython3",
   "version": "3.10.2"
  }
 },
 "nbformat": 4,
 "nbformat_minor": 5
}
